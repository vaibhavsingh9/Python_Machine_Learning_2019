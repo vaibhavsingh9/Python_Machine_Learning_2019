{
 "cells": [
  {
   "cell_type": "code",
   "execution_count": 1,
   "metadata": {},
   "outputs": [
    {
     "name": "stdout",
     "output_type": "stream",
     "text": [
      "(150, 5)\n"
     ]
    }
   ],
   "source": [
    "# Importing libraries\n",
    "import pandas as pd\n",
    "import numpy as np\n",
    "import math\n",
    "import operator\n",
    "names=['Sepal_Width','Sepal_Height','Petal_Width',\n",
    "       'Petal_Height','Species']\n",
    "data = pd.read_csv(\"iris.csv\",names=names)\n",
    "data.head() \n",
    "print(data.shape)"
   ]
  },
  {
   "cell_type": "code",
   "execution_count": 2,
   "metadata": {},
   "outputs": [],
   "source": [
    "def euclideanDistance(data1, data2, length):\n",
    "    \n",
    "    distance = 0\n",
    "    for x in range(length):\n",
    "        distance += np.square(data1[x] - data2[x])\n",
    "    return np.sqrt(distance)\n",
    "\n",
    "# Defining our KNN model\n",
    "def knn(trainingSet, testInstance, k):\n",
    "    distances = {}\n",
    "    sort = {}\n",
    "    length = testInstance.shape[1]\n",
    "    \n",
    "    for x in range(len(trainingSet)):\n",
    "        dist = euclideanDistance(testInstance,\n",
    "                    trainingSet.iloc[x], length)\n",
    "        distances[x] = dist[0]\n",
    "        #### End of STEP 3.1\n",
    " \n",
    "    #### Start of STEP 3.2\n",
    "    # Sorting them on the basis of distance\n",
    "    sorted_d = sorted(distances.items(), \n",
    "                      key=operator.itemgetter(1))\n",
    "   \n",
    "    neighbors = []\n",
    "    \n",
    "    # Extracting top k neighbors\n",
    "    for x in range(k):\n",
    "        neighbors.append(sorted_d[x][0])\n",
    "    #### End of STEP 3.3\n",
    "    classVotes = {}\n",
    "    # Calculating the most freq class in the neighbors\n",
    "    for x in range(len(neighbors)):\n",
    "        response = trainingSet.iloc[neighbors[x]][-1]\n",
    " \n",
    "        if response in classVotes:\n",
    "            classVotes[response] += 1\n",
    "        else:\n",
    "            classVotes[response] = 1\n",
    "    sortedVotes = sorted(classVotes.items(),\n",
    "    key=operator.itemgetter(1), reverse=True)\n",
    "    return(sortedVotes[0][0], neighbors)"
   ]
  },
  {
   "cell_type": "code",
   "execution_count": 3,
   "metadata": {},
   "outputs": [
    {
     "name": "stdout",
     "output_type": "stream",
     "text": [
      "Iris-versicolor\n",
      "[106, 57, 60, 93, 98, 59, 41]\n"
     ]
    }
   ],
   "source": [
    "# Creating a dummy testset\n",
    "testSet = [[1.9,1.1,2.5,4.1]]\n",
    "test = pd.DataFrame(testSet)\n",
    "k = 7\n",
    "result,neigh = knn(data, test, k)\n",
    "print(result)\n",
    "print(neigh)"
   ]
  },
  {
   "cell_type": "code",
   "execution_count": 4,
   "metadata": {},
   "outputs": [
    {
     "name": "stdout",
     "output_type": "stream",
     "text": [
      "Iris-versicolor\n",
      "[106, 57, 60, 93, 98, 59, 41]\n"
     ]
    }
   ],
   "source": [
    "# Setting number of neighbors = 3 \n",
    "k = 7\n",
    "# Running KNN model \n",
    "result,neigh = knn(data, test, k) \n",
    "# Predicted class \n",
    "print(result) #-> Iris-virginica\n",
    "# 3 nearest neighbors\n",
    "print(neigh)\n",
    "# [141, 139, 120]"
   ]
  },
  {
   "cell_type": "code",
   "execution_count": 5,
   "metadata": {},
   "outputs": [
    {
     "name": "stdout",
     "output_type": "stream",
     "text": [
      "Iris-versicolor\n",
      "[106, 57, 60, 93, 98]\n"
     ]
    }
   ],
   "source": [
    "# Setting number of neighbors = 5\n",
    "k = 5\n",
    "# Running KNN model \n",
    "result,neigh = knn(data, test, k) \n",
    "# Predicted class \n",
    "print(result) #-> Iris-virginica\n",
    "# 5 nearest neighbors\n",
    "print(neigh)\n",
    "#-> [141, 139, 120, 145, 144]"
   ]
  },
  {
   "cell_type": "code",
   "execution_count": 6,
   "metadata": {},
   "outputs": [
    {
     "name": "stdout",
     "output_type": "stream",
     "text": [
      "['Iris-versicolor']\n",
      "[[62 92 69 67 80]]\n"
     ]
    }
   ],
   "source": [
    "from sklearn.neighbors import KNeighborsClassifier\n",
    "neigh = KNeighborsClassifier(n_neighbors=5)\n",
    "\n",
    "neigh.fit(data.iloc[:,0:4], data['Species'])\n",
    "\n",
    "#print(data.iloc[:,0:4])\n",
    "# Predicted class\n",
    "testSet = [[6,2.2,4,1]]\n",
    "test = pd.DataFrame(testSet)\n",
    "print(neigh.predict(test))\n",
    "\n",
    "#-> ['Iris-virginica']\n",
    "\n",
    "# 3 nearest neighbors\n",
    "print(neigh.kneighbors(test)[1])\n",
    "#-> [[141 139 120]]"
   ]
  },
  {
   "cell_type": "code",
   "execution_count": null,
   "metadata": {},
   "outputs": [],
   "source": []
  }
 ],
 "metadata": {
  "kernelspec": {
   "display_name": "Python 3",
   "language": "python",
   "name": "python3"
  },
  "language_info": {
   "codemirror_mode": {
    "name": "ipython",
    "version": 3
   },
   "file_extension": ".py",
   "mimetype": "text/x-python",
   "name": "python",
   "nbconvert_exporter": "python",
   "pygments_lexer": "ipython3",
   "version": "3.7.3"
  }
 },
 "nbformat": 4,
 "nbformat_minor": 2
}
