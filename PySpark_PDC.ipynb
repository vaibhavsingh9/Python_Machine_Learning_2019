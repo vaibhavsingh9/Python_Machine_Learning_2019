{
 "cells": [
  {
   "cell_type": "code",
   "execution_count": 1,
   "metadata": {},
   "outputs": [
    {
     "name": "stdout",
     "output_type": "stream",
     "text": [
      "169\n",
      "4\n",
      "9\n",
      "16\n",
      "25\n",
      "36\n",
      "49\n",
      "64\n",
      "81\n"
     ]
    }
   ],
   "source": [
    "#import pyspark\n",
    "from pyspark import SparkContext\n",
    "sc = SparkContext()\n",
    "nums = sc.parallelize([13,2,3,4,5,6,7,8,9])#giving the data# formation of data\n",
    "nums.take(3)#indexed values are printed \n",
    "# index starts from 1 here\n",
    "squared = nums.map(lambda x: x*x).collect()\n",
    "for num in squared:\n",
    "    print('%i' %(num))\n",
    "    "
   ]
  },
  {
   "cell_type": "markdown",
   "metadata": {},
   "source": [
    "### SQLContext a more convenient way is to use the DataFrame. \n",
    "SparkContext is already set, you can use it to create the DataFrame. You also need to declare the SQLContext. SQLContext allows connecting the engine with different data sources. It is used to initiate the functionalities of Spark SQL.\n"
   ]
  },
  {
   "cell_type": "code",
   "execution_count": 2,
   "metadata": {},
   "outputs": [],
   "source": [
    "from pyspark.sql import Row#using the SQL because loading a big file SQL helps, CSV is limited to only 10lakhs data row\n",
    "#over it, CSV doesn't work\n",
    "from pyspark.sql import SQLContext\n",
    "from pyspark import SparkContext"
   ]
  },
  {
   "cell_type": "code",
   "execution_count": 3,
   "metadata": {},
   "outputs": [],
   "source": [
    "sc.stop()\n",
    "sc = SparkContext()\n",
    "sqlContext = SQLContext(sc)"
   ]
  },
  {
   "cell_type": "code",
   "execution_count": 4,
   "metadata": {},
   "outputs": [
    {
     "data": {
      "text/plain": [
       "[('jhon', 19), ('smith', 29), ('Adam', 35), ('Henry', 50)]"
      ]
     },
     "execution_count": 4,
     "metadata": {},
     "output_type": "execute_result"
    }
   ],
   "source": [
    "list_p = [('jhon',19),('smith',29),('Adam',35),('Henry',50)]\n",
    "list_p"
   ]
  },
  {
   "cell_type": "markdown",
   "metadata": {},
   "source": [
    "### Build a RDD ( Resilient Distributed Dataset )"
   ]
  },
  {
   "cell_type": "code",
   "execution_count": 5,
   "metadata": {},
   "outputs": [],
   "source": [
    "rdd = sc.parallelize(list_p)"
   ]
  },
  {
   "cell_type": "code",
   "execution_count": 6,
   "metadata": {},
   "outputs": [],
   "source": [
    "ppl = rdd.map(lambda x: Row(name = x[0], age = int(x[1])))"
   ]
  },
  {
   "cell_type": "code",
   "execution_count": 7,
   "metadata": {},
   "outputs": [],
   "source": [
    "#create a DataFrame context\n",
    "#sqlContext.createDataFrame(ppl)\n",
    "#list_p = [('jhon',19),('smith',29),('Adam',35),('Henry',50)]\n",
    "#rdd = sc.parallelize(list_p)\n",
    "DF_ppl = sqlContext.createDataFrame(ppl)"
   ]
  },
  {
   "cell_type": "code",
   "execution_count": 8,
   "metadata": {},
   "outputs": [
    {
     "name": "stdout",
     "output_type": "stream",
     "text": [
      "root\n",
      " |-- age: long (nullable = true)\n",
      " |-- name: string (nullable = true)\n",
      "\n"
     ]
    }
   ],
   "source": [
    "DF_ppl.printSchema()"
   ]
  },
  {
   "cell_type": "code",
   "execution_count": 9,
   "metadata": {},
   "outputs": [
    {
     "name": "stdout",
     "output_type": "stream",
     "text": [
      "+---+-----+\n",
      "|age| name|\n",
      "+---+-----+\n",
      "| 19| jhon|\n",
      "| 29|smith|\n",
      "| 35| Adam|\n",
      "| 50|Henry|\n",
      "+---+-----+\n",
      "\n"
     ]
    }
   ],
   "source": [
    "DF_ppl.show()"
   ]
  },
  {
   "cell_type": "code",
   "execution_count": 10,
   "metadata": {},
   "outputs": [],
   "source": [
    "#from pyspark.sql import SQLContext\n",
    "url = \"https://raw.githubusercontent.com/thomaspernet/data_csv_r/master/data/adult.csv\"\n",
    "from pyspark import SparkFiles"
   ]
  },
  {
   "cell_type": "code",
   "execution_count": 11,
   "metadata": {},
   "outputs": [],
   "source": [
    "sc.addFile(url)\n",
    "sqlContext = SQLContext(sc)"
   ]
  },
  {
   "cell_type": "code",
   "execution_count": 12,
   "metadata": {},
   "outputs": [],
   "source": [
    "df = sqlContext.read.csv(SparkFiles.get(\"adult.csv\"),header = True, inferSchema = True)"
   ]
  },
  {
   "cell_type": "code",
   "execution_count": 13,
   "metadata": {},
   "outputs": [
    {
     "name": "stdout",
     "output_type": "stream",
     "text": [
      "root\n",
      " |-- age: integer (nullable = true)\n",
      " |-- workclass: string (nullable = true)\n",
      " |-- fnlwgt: integer (nullable = true)\n",
      " |-- education: string (nullable = true)\n",
      " |-- education_num: integer (nullable = true)\n",
      " |-- marital: string (nullable = true)\n",
      " |-- occupation: string (nullable = true)\n",
      " |-- relationship: string (nullable = true)\n",
      " |-- race: string (nullable = true)\n",
      " |-- sex: string (nullable = true)\n",
      " |-- capital_gain: integer (nullable = true)\n",
      " |-- capital_loss: integer (nullable = true)\n",
      " |-- hours_week: integer (nullable = true)\n",
      " |-- native_country: string (nullable = true)\n",
      " |-- label: string (nullable = true)\n",
      "\n"
     ]
    }
   ],
   "source": [
    "df.printSchema()"
   ]
  },
  {
   "cell_type": "code",
   "execution_count": 14,
   "metadata": {},
   "outputs": [
    {
     "name": "stdout",
     "output_type": "stream",
     "text": [
      "+---+----------------+------+---------+-------------+------------------+---------------+-------------+-----+----+------------+------------+----------+--------------+-----+\n",
      "|age|       workclass|fnlwgt|education|education_num|           marital|     occupation| relationship| race| sex|capital_gain|capital_loss|hours_week|native_country|label|\n",
      "+---+----------------+------+---------+-------------+------------------+---------------+-------------+-----+----+------------+------------+----------+--------------+-----+\n",
      "| 39|       State-gov| 77516|Bachelors|           13|     Never-married|   Adm-clerical|Not-in-family|White|Male|        2174|           0|        40| United-States|<=50K|\n",
      "| 50|Self-emp-not-inc| 83311|Bachelors|           13|Married-civ-spouse|Exec-managerial|      Husband|White|Male|           0|           0|        13| United-States|<=50K|\n",
      "+---+----------------+------+---------+-------------+------------------+---------------+-------------+-----+----+------------+------------+----------+--------------+-----+\n",
      "only showing top 2 rows\n",
      "\n"
     ]
    }
   ],
   "source": [
    "df.show(2)"
   ]
  },
  {
   "cell_type": "code",
   "execution_count": 15,
   "metadata": {},
   "outputs": [],
   "source": [
    "#To convert the con\n",
    "from pyspark.sql.types import *"
   ]
  },
  {
   "cell_type": "code",
   "execution_count": 16,
   "metadata": {},
   "outputs": [
    {
     "name": "stdout",
     "output_type": "stream",
     "text": [
      "root\n",
      " |-- age: float (nullable = true)\n",
      " |-- workclass: string (nullable = true)\n",
      " |-- fnlwgt: float (nullable = true)\n",
      " |-- education: string (nullable = true)\n",
      " |-- education_num: float (nullable = true)\n",
      " |-- marital: string (nullable = true)\n",
      " |-- occupation: string (nullable = true)\n",
      " |-- relationship: string (nullable = true)\n",
      " |-- race: string (nullable = true)\n",
      " |-- sex: string (nullable = true)\n",
      " |-- capital_gain: float (nullable = true)\n",
      " |-- capital_loss: float (nullable = true)\n",
      " |-- hours_week: float (nullable = true)\n",
      " |-- native_country: string (nullable = true)\n",
      " |-- label: string (nullable = true)\n",
      "\n"
     ]
    }
   ],
   "source": [
    "#write a custom function to convert the data type of DataFrame columns\n",
    "def convertColumn(df,names,newType):\n",
    "    for name in names:\n",
    "        df = df.withColumn(name,df[name].cast(newType))\n",
    "    return df\n",
    "#list of continuous features \n",
    "CONTI_FEATURES = ['age','fnlwgt','capital_gain','education_num','capital_loss','hours_week']\n",
    "#convert the types\n",
    "df = convertColumn(df, CONTI_FEATURES, FloatType())\n",
    "#check the dataset\n",
    "df.printSchema()"
   ]
  },
  {
   "cell_type": "code",
   "execution_count": 17,
   "metadata": {},
   "outputs": [
    {
     "name": "stdout",
     "output_type": "stream",
     "text": [
      "+----+--------+------------+\n",
      "| age|  fnlwgt|   education|\n",
      "+----+--------+------------+\n",
      "|39.0| 77516.0|   Bachelors|\n",
      "|50.0| 83311.0|   Bachelors|\n",
      "|38.0|215646.0|     HS-grad|\n",
      "|53.0|234721.0|        11th|\n",
      "|28.0|338409.0|   Bachelors|\n",
      "|37.0|284582.0|     Masters|\n",
      "|49.0|160187.0|         9th|\n",
      "|52.0|209642.0|     HS-grad|\n",
      "|31.0| 45781.0|     Masters|\n",
      "|42.0|159449.0|   Bachelors|\n",
      "|37.0|280464.0|Some-college|\n",
      "|30.0|141297.0|   Bachelors|\n",
      "|23.0|122272.0|   Bachelors|\n",
      "|32.0|205019.0|  Assoc-acdm|\n",
      "|40.0|121772.0|   Assoc-voc|\n",
      "|34.0|245487.0|     7th-8th|\n",
      "|25.0|176756.0|     HS-grad|\n",
      "|32.0|186824.0|     HS-grad|\n",
      "|38.0| 28887.0|        11th|\n",
      "|43.0|292175.0|     Masters|\n",
      "+----+--------+------------+\n",
      "only showing top 20 rows\n",
      "\n"
     ]
    }
   ],
   "source": [
    "df.select('age','fnlwgt','education').show()#top 20 view#it also depends on arguments\n",
    "#df.select('*').show()"
   ]
  },
  {
   "cell_type": "code",
   "execution_count": 18,
   "metadata": {},
   "outputs": [
    {
     "name": "stdout",
     "output_type": "stream",
     "text": [
      "root\n",
      " |-- age: float (nullable = true)\n",
      " |-- workclass: string (nullable = true)\n",
      " |-- fnlwgt: float (nullable = true)\n",
      " |-- education: string (nullable = true)\n",
      " |-- education_num: float (nullable = true)\n",
      " |-- marital: string (nullable = true)\n",
      " |-- occupation: string (nullable = true)\n",
      " |-- relationship: string (nullable = true)\n",
      " |-- race: string (nullable = true)\n",
      " |-- sex: string (nullable = true)\n",
      " |-- capital_gain: float (nullable = true)\n",
      " |-- capital_loss: float (nullable = true)\n",
      " |-- hours_week: float (nullable = true)\n",
      " |-- native_country: string (nullable = true)\n",
      " |-- label: string (nullable = true)\n",
      "\n"
     ]
    }
   ],
   "source": [
    "from pyspark.ml.feature import StringIndexer\n",
    "#stringIndexer = StringIndexer(inputCol = \"label\",outputCol = \"newLabel\")\n",
    "#model = stringIndexer.fit(df)\n",
    "#df = model.transform(df)\n",
    "df.printSchema()"
   ]
  },
  {
   "cell_type": "code",
   "execution_count": 19,
   "metadata": {},
   "outputs": [
    {
     "name": "stdout",
     "output_type": "stream",
     "text": [
      "+----+--------+---------+-------------+-----+------+--------------+\n",
      "| age|  fnlwgt|education| relationship| race|   sex|native_country|\n",
      "+----+--------+---------+-------------+-----+------+--------------+\n",
      "|39.0| 77516.0|Bachelors|Not-in-family|White|  Male| United-States|\n",
      "|50.0| 83311.0|Bachelors|      Husband|White|  Male| United-States|\n",
      "|38.0|215646.0|  HS-grad|Not-in-family|White|  Male| United-States|\n",
      "|53.0|234721.0|     11th|      Husband|Black|  Male| United-States|\n",
      "|28.0|338409.0|Bachelors|         Wife|Black|Female|          Cuba|\n",
      "+----+--------+---------+-------------+-----+------+--------------+\n",
      "only showing top 5 rows\n",
      "\n"
     ]
    }
   ],
   "source": [
    "df.select('age','fnlwgt','education','relationship','race','sex','native_country').show(5)\n",
    "#df.select('*').show()"
   ]
  },
  {
   "cell_type": "code",
   "execution_count": 20,
   "metadata": {},
   "outputs": [
    {
     "name": "stdout",
     "output_type": "stream",
     "text": [
      "+------------+-----+\n",
      "|   education|count|\n",
      "+------------+-----+\n",
      "|   Preschool|   51|\n",
      "|     1st-4th|  168|\n",
      "|     5th-6th|  333|\n",
      "|   Doctorate|  413|\n",
      "|        12th|  433|\n",
      "|         9th|  514|\n",
      "| Prof-school|  576|\n",
      "|     7th-8th|  646|\n",
      "|        10th|  933|\n",
      "|  Assoc-acdm| 1067|\n",
      "|        11th| 1175|\n",
      "|   Assoc-voc| 1382|\n",
      "|     Masters| 1723|\n",
      "|   Bachelors| 5355|\n",
      "|Some-college| 7291|\n",
      "|     HS-grad|10501|\n",
      "+------------+-----+\n",
      "\n"
     ]
    }
   ],
   "source": [
    "df.groupBy(\"education\").count().sort(\"count\",ascending = True).show()"
   ]
  },
  {
   "cell_type": "code",
   "execution_count": 21,
   "metadata": {},
   "outputs": [
    {
     "name": "stdout",
     "output_type": "stream",
     "text": [
      "+-------+------------------+\n",
      "|summary|      capital_gain|\n",
      "+-------+------------------+\n",
      "|  count|             32561|\n",
      "|   mean|1077.6488437087312|\n",
      "| stddev| 7385.292084840354|\n",
      "|    min|               0.0|\n",
      "|    max|           99999.0|\n",
      "+-------+------------------+\n",
      "\n"
     ]
    }
   ],
   "source": [
    "#df.describe().show()#give the Standard Deviation #mean # min #max\n",
    "df.describe('capital_gain').show()#second method of describe\n",
    "#df.describe()"
   ]
  },
  {
   "cell_type": "code",
   "execution_count": 22,
   "metadata": {},
   "outputs": [
    {
     "name": "stdout",
     "output_type": "stream",
     "text": [
      "+---------+-----+----+\n",
      "|age_label|<=50K|>50K|\n",
      "+---------+-----+----+\n",
      "|     17.0|  395|   0|\n",
      "|     18.0|  550|   0|\n",
      "|     19.0|  710|   2|\n",
      "|     20.0|  753|   0|\n",
      "|     21.0|  717|   3|\n",
      "|     22.0|  752|  13|\n",
      "|     23.0|  865|  12|\n",
      "|     24.0|  767|  31|\n",
      "|     25.0|  788|  53|\n",
      "|     26.0|  722|  63|\n",
      "|     27.0|  754|  81|\n",
      "|     28.0|  748| 119|\n",
      "|     29.0|  679| 134|\n",
      "|     30.0|  690| 171|\n",
      "|     31.0|  705| 183|\n",
      "|     32.0|  639| 189|\n",
      "|     33.0|  684| 191|\n",
      "|     34.0|  643| 243|\n",
      "|     35.0|  659| 217|\n",
      "|     36.0|  635| 263|\n",
      "+---------+-----+----+\n",
      "only showing top 20 rows\n",
      "\n"
     ]
    }
   ],
   "source": [
    "df.crosstab('age','label').sort(\"age_label\").show()"
   ]
  },
  {
   "cell_type": "code",
   "execution_count": 23,
   "metadata": {},
   "outputs": [
    {
     "data": {
      "text/plain": [
       "['age',\n",
       " 'workclass',\n",
       " 'fnlwgt',\n",
       " 'education',\n",
       " 'marital',\n",
       " 'occupation',\n",
       " 'relationship',\n",
       " 'race',\n",
       " 'sex',\n",
       " 'capital_gain',\n",
       " 'capital_loss',\n",
       " 'hours_week',\n",
       " 'native_country',\n",
       " 'label']"
      ]
     },
     "execution_count": 23,
     "metadata": {},
     "output_type": "execute_result"
    }
   ],
   "source": [
    "df.drop('education_num').columns#virtual drop #actual can't be done because permission is not \n",
    "#data can't be lost"
   ]
  },
  {
   "cell_type": "code",
   "execution_count": 24,
   "metadata": {},
   "outputs": [
    {
     "data": {
      "text/plain": [
       "13443"
      ]
     },
     "execution_count": 24,
     "metadata": {},
     "output_type": "execute_result"
    }
   ],
   "source": [
    "df.filter(df.age>40).count()\n",
    "#number of people greater than age 40"
   ]
  },
  {
   "cell_type": "code",
   "execution_count": 25,
   "metadata": {},
   "outputs": [
    {
     "name": "stdout",
     "output_type": "stream",
     "text": [
      "+--------------------+------------------+\n",
      "|             marital| avg(capital_gain)|\n",
      "+--------------------+------------------+\n",
      "|           Separated| 535.5687804878049|\n",
      "|       Never-married|376.58831788823363|\n",
      "|Married-spouse-ab...| 653.9832535885167|\n",
      "|            Divorced| 728.4148098131893|\n",
      "|             Widowed| 571.0715005035247|\n",
      "|   Married-AF-spouse| 432.6521739130435|\n",
      "|  Married-civ-spouse|1764.8595085470085|\n",
      "+--------------------+------------------+\n",
      "\n"
     ]
    }
   ],
   "source": [
    "df.groupby('marital').agg({'capital_gain':'mean'}).show()\n",
    "#groupby can perform aggregate function\n",
    "#groupBy is different"
   ]
  },
  {
   "cell_type": "code",
   "execution_count": 26,
   "metadata": {},
   "outputs": [
    {
     "name": "stdout",
     "output_type": "stream",
     "text": [
      "root\n",
      " |-- age: float (nullable = true)\n",
      " |-- workclass: string (nullable = true)\n",
      " |-- fnlwgt: float (nullable = true)\n",
      " |-- education: string (nullable = true)\n",
      " |-- education_num: float (nullable = true)\n",
      " |-- marital: string (nullable = true)\n",
      " |-- occupation: string (nullable = true)\n",
      " |-- relationship: string (nullable = true)\n",
      " |-- race: string (nullable = true)\n",
      " |-- sex: string (nullable = true)\n",
      " |-- capital_gain: float (nullable = true)\n",
      " |-- capital_loss: float (nullable = true)\n",
      " |-- hours_week: float (nullable = true)\n",
      " |-- native_country: string (nullable = true)\n",
      " |-- label: string (nullable = true)\n",
      " |-- age_square: double (nullable = true)\n",
      "\n"
     ]
    }
   ],
   "source": [
    "from pyspark.sql.functions import *\n",
    "age_square1 = df.select(col(\"age\")**2)#select the column\n",
    "df = df.withColumn(\"age_square\",col(\"age\")**2)#extra column is created in our data\n",
    "df.printSchema()"
   ]
  },
  {
   "cell_type": "code",
   "execution_count": 27,
   "metadata": {},
   "outputs": [
    {
     "name": "stdout",
     "output_type": "stream",
     "text": [
      "+----+----------+----------------+-------+---------+-------------+------------------+---------------+-------------+-----+----+------------+------------+----------+--------------+-----+\n",
      "| age|age_square|       workclass| fnlwgt|education|education_num|           marital|     occupation| relationship| race| sex|capital_gain|capital_loss|hours_week|native_country|label|\n",
      "+----+----------+----------------+-------+---------+-------------+------------------+---------------+-------------+-----+----+------------+------------+----------+--------------+-----+\n",
      "|39.0|    1521.0|       State-gov|77516.0|Bachelors|         13.0|     Never-married|   Adm-clerical|Not-in-family|White|Male|      2174.0|         0.0|      40.0| United-States|<=50K|\n",
      "|50.0|    2500.0|Self-emp-not-inc|83311.0|Bachelors|         13.0|Married-civ-spouse|Exec-managerial|      Husband|White|Male|         0.0|         0.0|      13.0| United-States|<=50K|\n",
      "+----+----------+----------------+-------+---------+-------------+------------------+---------------+-------------+-----+----+------------+------------+----------+--------------+-----+\n",
      "only showing top 2 rows\n",
      "\n"
     ]
    }
   ],
   "source": [
    "COLUMNS =['age','age_square','workclass','fnlwgt','education','education_num','marital','occupation','relationship','race','sex','capital_gain','capital_loss','hours_week','native_country','label']\n",
    "df = df.select(COLUMNS)\n",
    "#print(df.first())\n",
    "df.show(2)"
   ]
  },
  {
   "cell_type": "code",
   "execution_count": 28,
   "metadata": {},
   "outputs": [
    {
     "name": "stdout",
     "output_type": "stream",
     "text": [
      "+--------------------+---------------------+\n",
      "|      Native_Country|count(native_country)|\n",
      "+--------------------+---------------------+\n",
      "|  Holand-Netherlands|                    1|\n",
      "|            Scotland|                   12|\n",
      "|            Honduras|                   13|\n",
      "|             Hungary|                   13|\n",
      "|Outlying-US(Guam-...|                   14|\n",
      "|          Yugoslavia|                   16|\n",
      "|            Thailand|                   18|\n",
      "|                Laos|                   18|\n",
      "|     Trinadad&Tobago|                   19|\n",
      "|            Cambodia|                   19|\n",
      "|                Hong|                   20|\n",
      "|             Ireland|                   24|\n",
      "|             Ecuador|                   28|\n",
      "|              Greece|                   29|\n",
      "|              France|                   29|\n",
      "|                Peru|                   31|\n",
      "|           Nicaragua|                   34|\n",
      "|            Portugal|                   37|\n",
      "|                Iran|                   43|\n",
      "|               Haiti|                   44|\n",
      "+--------------------+---------------------+\n",
      "only showing top 20 rows\n",
      "\n"
     ]
    }
   ],
   "source": [
    "df.filter(df.native_country == 'Holand-Netherlands').count()\n",
    "df.groupby('Native_Country').agg({'native_country':'count'}).sort(asc(\"count(native_country)\")).show()\n"
   ]
  },
  {
   "cell_type": "code",
   "execution_count": 29,
   "metadata": {
    "scrolled": false
   },
   "outputs": [
    {
     "name": "stdout",
     "output_type": "stream",
     "text": [
      "+----+----------+----------------+--------+------------+-------------+--------------------+-----------------+-------------+------------------+------+------------+------------+----------+--------------+-----+\n",
      "| age|age_square|       workclass|  fnlwgt|   education|education_num|             marital|       occupation| relationship|              race|   sex|capital_gain|capital_loss|hours_week|native_country|label|\n",
      "+----+----------+----------------+--------+------------+-------------+--------------------+-----------------+-------------+------------------+------+------------+------------+----------+--------------+-----+\n",
      "|39.0|    1521.0|       State-gov| 77516.0|   Bachelors|         13.0|       Never-married|     Adm-clerical|Not-in-family|             White|  Male|      2174.0|         0.0|      40.0| United-States|<=50K|\n",
      "|50.0|    2500.0|Self-emp-not-inc| 83311.0|   Bachelors|         13.0|  Married-civ-spouse|  Exec-managerial|      Husband|             White|  Male|         0.0|         0.0|      13.0| United-States|<=50K|\n",
      "|38.0|    1444.0|         Private|215646.0|     HS-grad|          9.0|            Divorced|Handlers-cleaners|Not-in-family|             White|  Male|         0.0|         0.0|      40.0| United-States|<=50K|\n",
      "|53.0|    2809.0|         Private|234721.0|        11th|          7.0|  Married-civ-spouse|Handlers-cleaners|      Husband|             Black|  Male|         0.0|         0.0|      40.0| United-States|<=50K|\n",
      "|28.0|     784.0|         Private|338409.0|   Bachelors|         13.0|  Married-civ-spouse|   Prof-specialty|         Wife|             Black|Female|         0.0|         0.0|      40.0|          Cuba|<=50K|\n",
      "|37.0|    1369.0|         Private|284582.0|     Masters|         14.0|  Married-civ-spouse|  Exec-managerial|         Wife|             White|Female|         0.0|         0.0|      40.0| United-States|<=50K|\n",
      "|49.0|    2401.0|         Private|160187.0|         9th|          5.0|Married-spouse-ab...|    Other-service|Not-in-family|             Black|Female|         0.0|         0.0|      16.0|       Jamaica|<=50K|\n",
      "|52.0|    2704.0|Self-emp-not-inc|209642.0|     HS-grad|          9.0|  Married-civ-spouse|  Exec-managerial|      Husband|             White|  Male|         0.0|         0.0|      45.0| United-States| >50K|\n",
      "|31.0|     961.0|         Private| 45781.0|     Masters|         14.0|       Never-married|   Prof-specialty|Not-in-family|             White|Female|     14084.0|         0.0|      50.0| United-States| >50K|\n",
      "|42.0|    1764.0|         Private|159449.0|   Bachelors|         13.0|  Married-civ-spouse|  Exec-managerial|      Husband|             White|  Male|      5178.0|         0.0|      40.0| United-States| >50K|\n",
      "|37.0|    1369.0|         Private|280464.0|Some-college|         10.0|  Married-civ-spouse|  Exec-managerial|      Husband|             Black|  Male|         0.0|         0.0|      80.0| United-States| >50K|\n",
      "|30.0|     900.0|       State-gov|141297.0|   Bachelors|         13.0|  Married-civ-spouse|   Prof-specialty|      Husband|Asian-Pac-Islander|  Male|         0.0|         0.0|      40.0|         India| >50K|\n",
      "|23.0|     529.0|         Private|122272.0|   Bachelors|         13.0|       Never-married|     Adm-clerical|    Own-child|             White|Female|         0.0|         0.0|      30.0| United-States|<=50K|\n",
      "|32.0|    1024.0|         Private|205019.0|  Assoc-acdm|         12.0|       Never-married|            Sales|Not-in-family|             Black|  Male|         0.0|         0.0|      50.0| United-States|<=50K|\n",
      "|40.0|    1600.0|         Private|121772.0|   Assoc-voc|         11.0|  Married-civ-spouse|     Craft-repair|      Husband|Asian-Pac-Islander|  Male|         0.0|         0.0|      40.0|             ?| >50K|\n",
      "|34.0|    1156.0|         Private|245487.0|     7th-8th|          4.0|  Married-civ-spouse| Transport-moving|      Husband|Amer-Indian-Eskimo|  Male|         0.0|         0.0|      45.0|        Mexico|<=50K|\n",
      "|25.0|     625.0|Self-emp-not-inc|176756.0|     HS-grad|          9.0|       Never-married|  Farming-fishing|    Own-child|             White|  Male|         0.0|         0.0|      35.0| United-States|<=50K|\n",
      "|32.0|    1024.0|         Private|186824.0|     HS-grad|          9.0|       Never-married|Machine-op-inspct|    Unmarried|             White|  Male|         0.0|         0.0|      40.0| United-States|<=50K|\n",
      "|38.0|    1444.0|         Private| 28887.0|        11th|          7.0|  Married-civ-spouse|            Sales|      Husband|             White|  Male|         0.0|         0.0|      50.0| United-States|<=50K|\n",
      "|43.0|    1849.0|Self-emp-not-inc|292175.0|     Masters|         14.0|            Divorced|  Exec-managerial|    Unmarried|             White|Female|         0.0|         0.0|      45.0| United-States| >50K|\n",
      "+----+----------+----------------+--------+------------+-------------+--------------------+-----------------+-------------+------------------+------+------------+------------+----------+--------------+-----+\n",
      "only showing top 20 rows\n",
      "\n",
      "+--------------------+---------------------+\n",
      "|      native_country|count(native_country)|\n",
      "+--------------------+---------------------+\n",
      "|  Holand-Netherlands|                    1|\n",
      "|            Scotland|                   12|\n",
      "|            Honduras|                   13|\n",
      "|             Hungary|                   13|\n",
      "|Outlying-US(Guam-...|                   14|\n",
      "|          Yugoslavia|                   16|\n",
      "|            Thailand|                   18|\n",
      "|                Laos|                   18|\n",
      "|            Cambodia|                   19|\n",
      "|     Trinadad&Tobago|                   19|\n",
      "|                Hong|                   20|\n",
      "|             Ireland|                   24|\n",
      "|             Ecuador|                   28|\n",
      "|              France|                   29|\n",
      "|              Greece|                   29|\n",
      "|                Peru|                   31|\n",
      "|           Nicaragua|                   34|\n",
      "|            Portugal|                   37|\n",
      "|                Iran|                   43|\n",
      "|               Haiti|                   44|\n",
      "+--------------------+---------------------+\n",
      "only showing top 20 rows\n",
      "\n"
     ]
    }
   ],
   "source": [
    "df_remove = df.filter(df.native_country != 'Holand-Neterlands').show()\n",
    "#df.filter(df.native_country != 'Holand-Netherlands').count()\n",
    "df.groupby('native_country').agg({'native_country':'count'}).sort(asc(\"count(native_country)\")).show()\n"
   ]
  },
  {
   "cell_type": "code",
   "execution_count": null,
   "metadata": {},
   "outputs": [],
   "source": []
  }
 ],
 "metadata": {
  "kernelspec": {
   "display_name": "Python 3",
   "language": "python",
   "name": "python3"
  },
  "language_info": {
   "codemirror_mode": {
    "name": "ipython",
    "version": 3
   },
   "file_extension": ".py",
   "mimetype": "text/x-python",
   "name": "python",
   "nbconvert_exporter": "python",
   "pygments_lexer": "ipython3",
   "version": "3.7.3"
  }
 },
 "nbformat": 4,
 "nbformat_minor": 2
}
