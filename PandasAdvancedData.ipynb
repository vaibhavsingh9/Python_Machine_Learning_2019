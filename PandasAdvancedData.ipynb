{
 "cells": [
  {
   "cell_type": "code",
   "execution_count": 4,
   "metadata": {},
   "outputs": [
    {
     "name": "stdout",
     "output_type": "stream",
     "text": [
      "0.24.2\n",
      "{'system': {'commit': None, 'python': '3.7.3.final.0', 'python-bits': 64, 'OS': 'Windows', 'OS-release': '10', 'machine': 'AMD64', 'processor': 'Intel64 Family 6 Model 142 Stepping 10, GenuineIntel', 'byteorder': 'little', 'LC_ALL': 'None', 'LANG': 'None', 'LOCALE': 'None.None'}, 'dependencies': {'pandas': '0.24.2', 'pytest': '4.3.1', 'pip': '19.0.3', 'setuptools': '40.8.0', 'Cython': '0.29.6', 'numpy': '1.16.2', 'scipy': '1.2.1', 'pyarrow': None, 'xarray': None, 'IPython': '7.4.0', 'sphinx': '1.8.5', 'patsy': '0.5.1', 'dateutil': '2.8.0', 'pytz': '2018.9', 'blosc': None, 'bottleneck': '1.2.1', 'tables': '3.5.1', 'numexpr': '2.6.9', 'feather': None, 'matplotlib': '3.0.3', 'openpyxl': '2.6.1', 'xlrd': '1.2.0', 'xlwt': '1.3.0', 'xlsxwriter': '1.1.5', 'lxml.etree': '4.3.2', 'bs4': '4.7.1', 'html5lib': '1.0.1', 'sqlalchemy': '1.3.1', 'pymysql': '0.9.3', 'psycopg2': None, 'jinja2': '2.10', 's3fs': None, 'fastparquet': None, 'pandas_gbq': None, 'pandas_datareader': None, 'gcsfs': None}}\n",
      "None\n"
     ]
    }
   ],
   "source": [
    "import pandas as pd\n",
    "print(pd.__version__)\n",
    "print(pd.show_versions(as_json=True))#json format files"
   ]
  },
  {
   "cell_type": "code",
   "execution_count": 30,
   "metadata": {},
   "outputs": [
    {
     "name": "stdout",
     "output_type": "stream",
     "text": [
      "a     0\n",
      "b     1\n",
      "c     2\n",
      "d     3\n",
      "e     4\n",
      "f     5\n",
      "g     6\n",
      "h     7\n",
      "i     8\n",
      "j     9\n",
      "k    10\n",
      "l    11\n",
      "m    12\n",
      "n    13\n",
      "o    14\n",
      "p    15\n",
      "q    16\n",
      "r    17\n",
      "s    18\n",
      "t    19\n",
      "u    20\n",
      "v    21\n",
      "w    22\n",
      "x    23\n",
      "y    24\n",
      "z    25\n",
      "dtype: int64\n"
     ]
    }
   ],
   "source": [
    "import numpy as np\n",
    "mylist = list('abcdefghijklmnopqrstuvwxyz')\n",
    "myarr = np.arange(26)\n",
    "mydict = dict(zip(mylist,myarr))#zip reads multiple data at a time, the parameterized data\n",
    "\n",
    "#solution\n",
    "\n",
    "ser1 = pd.Series(mylist)#list can be converted\n",
    "ser2 = pd.Series(myarr)#arrays can be converted\n",
    "ser3 = pd.Series(mydict)#dictionaries can be also\n",
    "print(ser3.head(26))"
   ]
  },
  {
   "cell_type": "code",
   "execution_count": 31,
   "metadata": {},
   "outputs": [
    {
     "name": "stdout",
     "output_type": "stream",
     "text": [
      "   index   0\n",
      "0      a   0\n",
      "1      b   1\n",
      "2      c   2\n",
      "3      d   3\n",
      "4      e   4\n",
      "5      f   5\n",
      "6      g   6\n",
      "7      h   7\n",
      "8      i   8\n",
      "9      j   9\n",
      "10     k  10\n",
      "11     l  11\n",
      "12     m  12\n",
      "13     n  13\n",
      "14     o  14\n",
      "15     p  15\n",
      "16     q  16\n",
      "17     r  17\n",
      "18     s  18\n",
      "19     t  19\n",
      "20     u  20\n",
      "21     v  21\n",
      "22     w  22\n",
      "23     x  23\n",
      "24     y  24\n",
      "25     z  25\n"
     ]
    }
   ],
   "source": [
    "ser = pd.Series(mydict)\n",
    "df = ser.to_frame().reset_index()\n",
    "print(df.head(26))"
   ]
  },
  {
   "cell_type": "code",
   "execution_count": 22,
   "metadata": {},
   "outputs": [
    {
     "name": "stdout",
     "output_type": "stream",
     "text": [
      "    0   1\n",
      "0   a   0\n",
      "1   b   1\n",
      "2   c   2\n",
      "3   d   3\n",
      "4   e   4\n",
      "5   f   5\n",
      "6   g   6\n",
      "7   h   7\n",
      "8   i   8\n",
      "9   j   9\n",
      "10  k  10\n",
      "11  l  11\n",
      "12  m  12\n",
      "13  n  13\n",
      "14  o  14\n",
      "15  p  15\n",
      "16  q  16\n",
      "17  r  17\n",
      "18  s  18\n",
      "19  t  19\n",
      "20  u  20\n",
      "21  v  21\n",
      "22  w  22\n",
      "23  x  23\n",
      "24  y  24\n",
      "25  z  25\n",
      "  col1  col2\n",
      "0    a     0\n",
      "1    b     1\n",
      "2    c     2\n",
      "3    d     3\n",
      "4    e     4\n"
     ]
    }
   ],
   "source": [
    "#multiple series\n",
    "ser1 = pd.Series(list('abcdefghijklmnopqrstuvwxyz'))\n",
    "ser2 = pd.Series(np.arange(26))\n",
    "#sol1\n",
    "df = pd.concat([ser1,ser2],axis = 1)\n",
    "print(df)\n",
    "\n",
    "df = pd.DataFrame({'col1':ser1,'col2':ser2})\n",
    "print(df.head())\n",
    "    "
   ]
  },
  {
   "cell_type": "code",
   "execution_count": 35,
   "metadata": {},
   "outputs": [
    {
     "name": "stdout",
     "output_type": "stream",
     "text": [
      "0    1\n",
      "1    2\n",
      "2    3\n",
      "3    4\n",
      "4    5\n",
      "5    6\n",
      "6    7\n",
      "7    8\n",
      "dtype: int64\n",
      "0    4\n",
      "1    5\n",
      "dtype: int64\n"
     ]
    }
   ],
   "source": [
    "#UNION 1D INTERSECION 1D\n",
    "import numpy as np\n",
    "ser1 = pd.Series([1,2,3,4,5])\n",
    "ser2 = pd.Series([4,5,6,7,8])\n",
    "\n",
    "ser_u = pd.Series(np.union1d(ser1,ser2))#UNION\n",
    "ser_i = pd.Series(np.intersect1d(ser1,ser2))#INTERSECT\n",
    "print(ser_u)\n",
    "print(ser_i)"
   ]
  },
  {
   "cell_type": "code",
   "execution_count": 40,
   "metadata": {},
   "outputs": [
    {
     "name": "stdout",
     "output_type": "stream",
     "text": [
      "0     How\n",
      "1      To\n",
      "2    Kick\n",
      "3     Ss?\n",
      "dtype: object\n",
      "0     How\n",
      "1      To\n",
      "2    Kick\n",
      "3     Ss?\n",
      "dtype: object\n",
      "0     How\n",
      "1      To\n",
      "2    Kick\n",
      "3     Ss?\n",
      "dtype: object\n",
      "0    3\n",
      "1    2\n",
      "2    4\n",
      "3    3\n",
      "dtype: int64\n"
     ]
    }
   ],
   "source": [
    "ser  = pd.Series(['how','to','kick','ss?'])\n",
    "\n",
    "print(ser.map(lambda x: x.title()))#capitalizes the first letter of the word of full string\n",
    "\n",
    "print(ser.map(lambda x: x[0].upper() + x[1:]))\n",
    "\n",
    "print(pd.Series([i.title() for i in ser]))\n",
    "\n",
    "#len of words in string \n",
    "\n",
    "print(ser.map(lambda x: len(x)))"
   ]
  },
  {
   "cell_type": "code",
   "execution_count": 45,
   "metadata": {},
   "outputs": [
    {
     "name": "stdout",
     "output_type": "stream",
     "text": [
      "Date:  [10, 2, 3, 4, 5]\n",
      "week number:  [2, 5, 9, 14, 19]\n",
      "Day number of year:  [10, 33, 63, 94, 125]\n"
     ]
    }
   ],
   "source": [
    "#day of month \n",
    "#week number, date number\n",
    "ser = pd.Series(['01-10-2019','02-02-2011','20120303','2013/04/04','2014-05-05'])\n",
    "\n",
    "from dateutil.parser import parse\n",
    "ser_ts = ser.map(lambda x: parse(x))\n",
    "\n",
    "print(\"Date: \",ser_ts.dt.day.tolist())\n",
    "print(\"week number: \",ser_ts.dt.weekofyear.tolist())\n",
    "print(\"Day number of year: \", ser_ts.dt.dayofyear.tolist())"
   ]
  },
  {
   "cell_type": "code",
   "execution_count": 50,
   "metadata": {},
   "outputs": [
    {
     "name": "stdout",
     "output_type": "stream",
     "text": [
      "[0.22, 0.01, 0.11, -0.2, -0.22, -0.14, -0.09, 0.19, -0.36, 0.05]\n",
      "Log having highet correlation: 8\n"
     ]
    }
   ],
   "source": [
    "#How to compute the autocorrealation of a numeric series?\n",
    "ser = pd.Series(np.arange(20) + np.random.normal(1,10,20))\n",
    "\n",
    "\n",
    "autocorrelations = [ser.autocorr(i).round(2) for i in range(11)]\n",
    "print( autocorrelations[1:])\n",
    "print('Log having highet correlation:',np.argmax(np.abs(autocorrelations[1:])))"
   ]
  },
  {
   "cell_type": "code",
   "execution_count": 1,
   "metadata": {},
   "outputs": [
    {
     "name": "stdout",
     "output_type": "stream",
     "text": [
      "showing info https://raw.githubusercontent.com/nltk/nltk_data/gh-pages/index.xml\n"
     ]
    },
    {
     "data": {
      "text/plain": [
       "True"
      ]
     },
     "execution_count": 1,
     "metadata": {},
     "output_type": "execute_result"
    }
   ],
   "source": [
    "import nltk\n",
    "nltk.download()"
   ]
  },
  {
   "cell_type": "code",
   "execution_count": null,
   "metadata": {},
   "outputs": [],
   "source": []
  },
  {
   "cell_type": "code",
   "execution_count": null,
   "metadata": {},
   "outputs": [],
   "source": [
    "pip install opencv-python"
   ]
  },
  {
   "cell_type": "code",
   "execution_count": null,
   "metadata": {},
   "outputs": [],
   "source": []
  }
 ],
 "metadata": {
  "kernelspec": {
   "display_name": "Python 3",
   "language": "python",
   "name": "python3"
  },
  "language_info": {
   "codemirror_mode": {
    "name": "ipython",
    "version": 3
   },
   "file_extension": ".py",
   "mimetype": "text/x-python",
   "name": "python",
   "nbconvert_exporter": "python",
   "pygments_lexer": "ipython3",
   "version": "3.7.3"
  }
 },
 "nbformat": 4,
 "nbformat_minor": 2
}
