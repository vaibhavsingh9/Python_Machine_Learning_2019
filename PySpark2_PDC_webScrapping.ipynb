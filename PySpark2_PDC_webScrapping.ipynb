{
 "cells": [
  {
   "cell_type": "code",
   "execution_count": null,
   "metadata": {},
   "outputs": [],
   "source": [
    "from pyspark import SparkContext\n",
    "#sc.stop()\n",
    "sc = SparkContext(\"local\",\"FirstApp\")"
   ]
  },
  {
   "cell_type": "code",
   "execution_count": null,
   "metadata": {
    "scrolled": true
   },
   "outputs": [],
   "source": [
    "#from pyspark imoprt Spark Context\n",
    "logFile = \"train_titanic.csv\"\n",
    "#sc.stop()\n",
    "#sc = SparkContext(\"local\",\"first\")\n",
    "logData = sc.textFile(logFile).cache()\n",
    "#print(logData)\n",
    "numAs = logData.filter(lambda s: 'A' in s).count()\n",
    "numBs = logData.filter(lambda s: 'B' in s).count()\n",
    "print(numAs,numBs)"
   ]
  },
  {
   "cell_type": "code",
   "execution_count": null,
   "metadata": {},
   "outputs": [],
   "source": [
    "words = sc.parallelize((\"scala\",\"java\",\"hadoop\",\"spark\",\"akka\",\"spark vs hadoop\",\"Mohan\",\"pyspark\",\"pyspark and spark\"))\n",
    "coll = words.collect()#for collecting the data comprising of string and Integer both\n",
    "print('elements in RDD',coll)\n",
    "#nums = sc.parallelize([13,2,3,4,5,6,7,8,9])\n",
    "#words.take(3)\n",
    "#print(nums.take(2))"
   ]
  },
  {
   "cell_type": "code",
   "execution_count": null,
   "metadata": {},
   "outputs": [],
   "source": [
    "words = sc.parallelize([\"scala\",\"java\",\"hadoop\",\"spark\",\"akka\",\"spark vs hadoop\",\"Mohan\",\"pyspark\",\"pyspark and spark\"])\n",
    "def f(x):print(x)\n",
    "words.foreach(f)"
   ]
  },
  {
   "cell_type": "code",
   "execution_count": null,
   "metadata": {},
   "outputs": [],
   "source": [
    "words_filter = words.filter(lambda x: 'spark' in x)\n",
    "filtered = words_filter.collect()\n",
    "print(\"Filtered RDD -> %s\" %(filtered))"
   ]
  },
  {
   "cell_type": "code",
   "execution_count": 3,
   "metadata": {},
   "outputs": [
    {
     "name": "stdout",
     "output_type": "stream",
     "text": [
      "Accumulated value is -> 140\n"
     ]
    }
   ],
   "source": [
    "#from pyspark import SparkContext \n",
    "#sc.stop()\n",
    "#sc = SparkContext(\"local\", \"Accumulator app\") \n",
    "num = sc.accumulator(0) \n",
    "def f(x): \n",
    "   global num \n",
    "   num+=x \n",
    "rdd = sc.parallelize([20,30,40,50]) \n",
    "rdd.foreach(f) \n",
    "final = num.value \n",
    "print (\"Accumulated value is -> %i\" % (final))"
   ]
  },
  {
   "cell_type": "code",
   "execution_count": null,
   "metadata": {},
   "outputs": [],
   "source": []
  }
 ],
 "metadata": {
  "kernelspec": {
   "display_name": "Python 3",
   "language": "python",
   "name": "python3"
  },
  "language_info": {
   "codemirror_mode": {
    "name": "ipython",
    "version": 3
   },
   "file_extension": ".py",
   "mimetype": "text/x-python",
   "name": "python",
   "nbconvert_exporter": "python",
   "pygments_lexer": "ipython3",
   "version": "3.7.3"
  }
 },
 "nbformat": 4,
 "nbformat_minor": 2
}
