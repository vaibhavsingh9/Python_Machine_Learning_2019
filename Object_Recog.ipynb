{
 "cells": [
  {
   "cell_type": "code",
   "execution_count": 1,
   "metadata": {},
   "outputs": [],
   "source": [
    "import cv2"
   ]
  },
  {
   "cell_type": "code",
   "execution_count": 2,
   "metadata": {},
   "outputs": [],
   "source": [
    "image = cv2.imread(\"tet1.jpg\",1)"
   ]
  },
  {
   "cell_type": "code",
   "execution_count": 3,
   "metadata": {},
   "outputs": [],
   "source": [
    "cv2.imshow(\"Image\",image)\n",
    "cv2.waitKey(0)\n",
    "cv2.destroyAllWindows()"
   ]
  },
  {
   "cell_type": "code",
   "execution_count": 4,
   "metadata": {},
   "outputs": [],
   "source": [
    "#convert the image to grayscale\n",
    "gray = cv2.cvtColor(image,cv2.COLOR_BGR2GRAY)\n",
    "cv2.imshow(\"Gray\",gray)\n",
    "#print(gray)\n",
    "cv2.waitKey(0)\n",
    "#applying edge detection we can find the outlines of object in image\n",
    "edged = cv2.Canny(gray,60,255)\n",
    "cv2.imshow(\"Edged\",edged)\n",
    "cv2.waitKey(0)\n",
    "cv2.destroyAllWindows()"
   ]
  },
  {
   "cell_type": "code",
   "execution_count": 5,
   "metadata": {},
   "outputs": [],
   "source": [
    "from imutils import contours\n",
    "import imutils \n",
    "import numpy\n",
    "import cv2\n",
    "\n",
    "#threshold the image by setting all pixel values less than 225(white,foreground) and all pixel values >=225 to 255 \n",
    "#(black; background) thereby segmenting the image\n",
    "thresh =  cv2.threshold(gray,225,255,cv2.THRESH_BINARY_INV)[1]\n",
    "cv2.imshow(\"Thresh\", thresh)\n",
    "cv2.waitKey(0)\n",
    "cv2.destroyAllWindows()"
   ]
  },
  {
   "cell_type": "code",
   "execution_count": 6,
   "metadata": {},
   "outputs": [],
   "source": [
    "\n",
    "#find contours(i.e, outlines) of the foreground objects in the threshold image\n",
    "#the change was the parameters values as 2\n",
    "cnts, _ = cv2.findContours(thresh.copy(),cv2.RETR_EXTERNAL, cv2.CHAIN_APPROX_SIMPLE)\n",
    "#cnts = cv2.findContours(thresh.copy(),cv2.RETR_EXTERNAL, cv2.CHAIN_APPROX_SIMPLE)\n",
    "output = image.copy()\n",
    "\n",
    "#Loop over the contours\n",
    "for c in cnts:\n",
    "    #draw each contours on the output image with a 3px thick purple outline then display the output contours one at a time\n",
    "    ctr = numpy.array(c).reshape((-1,1,2)).astype(numpy.int32)\n",
    "    #ctr = imutils.grab_contours(cnts)\n",
    "    cv2.drawContours(output,[ctr],-1,(0,170,0),3)\n",
    "    #cv2.imshow(\"Contours\",output)\n",
    "    cv2.waitKey(0)\n",
    "    #draw the total number of contours found in purple\n",
    "\n",
    "text = \"I found {} objects!\".format(len(cnts))\n",
    "cv2.putText(output,text,(10,25),cv2.FONT_HERSHEY_SIMPLEX,0.7,(240,0,159),2)\n",
    "cv2.imshow(\"Contours\",output)\n",
    "cv2.waitKey(0)\n",
    "cv2.destroyAllWindows()"
   ]
  },
  {
   "cell_type": "code",
   "execution_count": 7,
   "metadata": {},
   "outputs": [
    {
     "data": {
      "text/plain": [
       "'4.1.0'"
      ]
     },
     "execution_count": 7,
     "metadata": {},
     "output_type": "execute_result"
    }
   ],
   "source": [
    "cv2.__version__\n"
   ]
  },
  {
   "cell_type": "code",
   "execution_count": null,
   "metadata": {},
   "outputs": [],
   "source": []
  }
 ],
 "metadata": {
  "kernelspec": {
   "display_name": "Python 3",
   "language": "python",
   "name": "python3"
  },
  "language_info": {
   "codemirror_mode": {
    "name": "ipython",
    "version": 3
   },
   "file_extension": ".py",
   "mimetype": "text/x-python",
   "name": "python",
   "nbconvert_exporter": "python",
   "pygments_lexer": "ipython3",
   "version": "3.7.3"
  }
 },
 "nbformat": 4,
 "nbformat_minor": 2
}
