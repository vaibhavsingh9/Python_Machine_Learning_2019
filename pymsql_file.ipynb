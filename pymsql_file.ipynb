{
 "cells": [
  {
   "cell_type": "code",
   "execution_count": 1,
   "metadata": {},
   "outputs": [],
   "source": [
    "import pymysql"
   ]
  },
  {
   "cell_type": "code",
   "execution_count": 3,
   "metadata": {},
   "outputs": [
    {
     "name": "stdout",
     "output_type": "stream",
     "text": [
      "<pymysql.connections.Connection object at 0x000001EC36C4BA20>\n"
     ]
    }
   ],
   "source": [
    "con  = pymysql.connect( db = 'db', user = 'root', password = 'root', host = 'localhost')\n",
    "print(con)"
   ]
  },
  {
   "cell_type": "code",
   "execution_count": 4,
   "metadata": {},
   "outputs": [],
   "source": [
    "cur = con.cursor()"
   ]
  },
  {
   "cell_type": "code",
   "execution_count": 5,
   "metadata": {},
   "outputs": [
    {
     "name": "stdout",
     "output_type": "stream",
     "text": [
      "Enter User Namevaibhav singh\n",
      "Enter password1234\n"
     ]
    }
   ],
   "source": [
    "uid = input('Enter User Name')\n",
    "pwd = input('Enter password')\n"
   ]
  },
  {
   "cell_type": "code",
   "execution_count": 9,
   "metadata": {},
   "outputs": [
    {
     "name": "stdout",
     "output_type": "stream",
     "text": [
      "(1146, \"Table 'db.login' doesn't exist\")\n"
     ]
    }
   ],
   "source": [
    "try:\n",
    "    i = cur.execute(\"insert into login values('%s','%s')\"%(uid,pwd))\n",
    "    if i >= 1:\n",
    "        con.commit()\n",
    "        print('Record Saved')\n",
    "except Exception as ex:\n",
    "    print(ex)\n",
    "    \n",
    "    "
   ]
  },
  {
   "cell_type": "code",
   "execution_count": 7,
   "metadata": {},
   "outputs": [
    {
     "name": "stdout",
     "output_type": "stream",
     "text": [
      "(1146, \"Table 'db.login' doesn't exist\")\n"
     ]
    }
   ],
   "source": [
    "try:\n",
    "    cur.execute(\"select * from login\")\n",
    "    rs = cur.fetchall()\n",
    "    size = len(rs)\n",
    "    for x in range(size):\n",
    "        print(rs[x][0],'\\t',rs[x][1])\n",
    "except Exception as ex:\n",
    "    print(ex)\n",
    "#finally: con.close()"
   ]
  },
  {
   "cell_type": "code",
   "execution_count": null,
   "metadata": {},
   "outputs": [],
   "source": []
  }
 ],
 "metadata": {
  "kernelspec": {
   "display_name": "Python 3",
   "language": "python",
   "name": "python3"
  },
  "language_info": {
   "codemirror_mode": {
    "name": "ipython",
    "version": 3
   },
   "file_extension": ".py",
   "mimetype": "text/x-python",
   "name": "python",
   "nbconvert_exporter": "python",
   "pygments_lexer": "ipython3",
   "version": "3.7.3"
  }
 },
 "nbformat": 4,
 "nbformat_minor": 2
}
