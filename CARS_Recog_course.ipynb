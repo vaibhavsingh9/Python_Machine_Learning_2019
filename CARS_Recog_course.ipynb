{
 "cells": [
  {
   "cell_type": "markdown",
   "metadata": {},
   "source": [
    "# CARS DETECTION"
   ]
  },
  {
   "cell_type": "code",
   "execution_count": 17,
   "metadata": {},
   "outputs": [],
   "source": [
    " import cv2 as cv"
   ]
  },
  {
   "cell_type": "code",
   "execution_count": 48,
   "metadata": {},
   "outputs": [],
   "source": [
    "cascade_src = r\"C:\\Users\\vaibhav\\Desktop\\PY_ML_2019\\Facial Recog\\cars.xml\""
   ]
  },
  {
   "cell_type": "code",
   "execution_count": 49,
   "metadata": {},
   "outputs": [],
   "source": [
    "video_src = 'video1.avi' #video_src = 'video3.mp4' #video_src = 'video2.mp4'"
   ]
  },
  {
   "cell_type": "code",
   "execution_count": 50,
   "metadata": {},
   "outputs": [],
   "source": [
    "cap = cv.VideoCapture(video_src)#reading the video as parameter in VidCap."
   ]
  },
  {
   "cell_type": "code",
   "execution_count": 51,
   "metadata": {},
   "outputs": [],
   "source": [
    "cars_cascade = cv.CascadeClassifier(cascade_src)"
   ]
  },
  {
   "cell_type": "code",
   "execution_count": 52,
   "metadata": {},
   "outputs": [],
   "source": [
    "while True:\n",
    "    ret, img = cap.read()\n",
    "    if(type(img) == type(None)):\n",
    "        break\n",
    "    gray = cv.cvtColor(img,cv.COLOR_BGR2GRAY)\n",
    "    cars = cars_cascade.detectMultiScale(gray,1.3,1)#initially 1 value in last parameter of MultiScale, feel free to change\n",
    "    for(x,y,w,h) in cars:\n",
    "        cv.rectangle(img,(x,y),(x+w,y+h),(0,255,0),3)\n",
    "    cv.imshow('video',img)\n",
    "    if cv.waitKey(33) == 27: #waitKey can take anything as parameter except 0 because it shows the content when it's #0\n",
    "        break\n",
    "cv.destroyAllWindows()"
   ]
  },
  {
   "cell_type": "code",
   "execution_count": null,
   "metadata": {},
   "outputs": [],
   "source": []
  },
  {
   "cell_type": "code",
   "execution_count": null,
   "metadata": {},
   "outputs": [],
   "source": []
  }
 ],
 "metadata": {
  "kernelspec": {
   "display_name": "Python 3",
   "language": "python",
   "name": "python3"
  },
  "language_info": {
   "codemirror_mode": {
    "name": "ipython",
    "version": 3
   },
   "file_extension": ".py",
   "mimetype": "text/x-python",
   "name": "python",
   "nbconvert_exporter": "python",
   "pygments_lexer": "ipython3",
   "version": "3.7.3"
  }
 },
 "nbformat": 4,
 "nbformat_minor": 2
}
